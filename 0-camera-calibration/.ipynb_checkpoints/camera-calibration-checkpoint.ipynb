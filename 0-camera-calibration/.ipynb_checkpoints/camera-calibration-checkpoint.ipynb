{
 "cells": [
  {
   "cell_type": "markdown",
   "metadata": {},
   "source": [
    "# Camera Calibration\n",
    "Calibrate on-arm camera and get intrinsic and extrinsic parameters\n",
    "\n",
    "Calibrate with standand chessboard images"
   ]
  },
  {
   "cell_type": "markdown",
   "metadata": {},
   "source": [
    "### Import directives"
   ]
  },
  {
   "cell_type": "code",
   "execution_count": 1,
   "metadata": {},
   "outputs": [],
   "source": [
    "import numpy as np\n",
    "from matplotlib import pyplot as plt\n",
    "import cv2\n",
    "import os"
   ]
  },
  {
   "cell_type": "markdown",
   "metadata": {},
   "source": [
    "### Search chessboard images"
   ]
  },
  {
   "cell_type": "code",
   "execution_count": 5,
   "metadata": {
    "scrolled": true
   },
   "outputs": [
    {
     "name": "stdout",
     "output_type": "stream",
     "text": [
      "Found 8 files\n"
     ]
    }
   ],
   "source": [
    "# Set directory and base name of chessboard images\n",
    "chess_dir = \"chessboards/\"\n",
    "chess_img_name = []\n",
    "for file in os.listdir(chess_dir):\n",
    "    if file.endswith(\".jpg\"):\n",
    "        chess_img_name = np.append(chess_img_name, os.path.join(chess_dir, file))\n",
    "print(\"Found {} files\".format(chess_img_name.shape[0]))"
   ]
  },
  {
   "cell_type": "code",
   "execution_count": 7,
   "metadata": {},
   "outputs": [
    {
     "name": "stdout",
     "output_type": "stream",
     "text": [
      "Processing chessboards/9.jpg ...\n",
      "           chessboards/9.jpg... OK\n",
      "Processing chessboards/2.jpg ...\n",
      "           chessboards/2.jpg... OK\n",
      "Processing chessboards/0.jpg ...\n",
      "           chessboards/0.jpg... OK\n",
      "Processing chessboards/3.jpg ...\n",
      "           chessboards/3.jpg... OK\n",
      "Processing chessboards/10.jpg ...\n",
      "           chessboards/10.jpg... OK\n",
      "Processing chessboards/1.jpg ...\n",
      "           chessboards/1.jpg... OK\n",
      "Processing chessboards/11.jpg ...\n",
      "           chessboards/11.jpg... OK\n",
      "Processing chessboards/12.jpg ...\n",
      "           chessboards/12.jpg... OK\n"
     ]
    }
   ],
   "source": [
    "square_size = 26.5 #mm\n",
    "pattern_size = (8,5) # number of inner corner\n",
    "\n",
    "#Building 3D points\n",
    "indices = np.indices(pattern_size, dtype=np.float32)\n",
    "indices *= square_size\n",
    "pattern_points = np.zeros([pattern_size[0]*pattern_size[1], 3], np.float32)\n",
    "coords_3D = indices.T.reshape(-1, 2)\n",
    "pattern_points[:, :2] = coords_3D\n",
    "\n",
    "def processImage(fn):\n",
    "    print('Processing {}...'.format(fn))\n",
    "    img = cv2.imread(fn, cv2.IMREAD_GRAYSCALE)\n",
    "    \n",
    "    if img is None:\n",
    "        print(\"Failed to load\", fn)\n",
    "        return None\n",
    "\n",
    "    found, corners = cv2.findChessboardCorners(img, pattern_size)\n",
    "\n",
    "    if found:\n",
    "        #Refining corner position to subpixel iteratively until criteria  max_count=30 or criteria_eps_error=1 is sutisfied\n",
    "        term = (cv2.TERM_CRITERIA_EPS + cv2.TERM_CRITERIA_COUNT, 5, 1)\n",
    "        #Image Corners \n",
    "        cv2.cornerSubPix(img, corners, (5, 5), (-1, -1), term)\n",
    "        \n",
    "    if not found:\n",
    "        print('chessboard not found')\n",
    "        return None\n",
    "\n",
    "    print('           %s... OK' % fn)\n",
    "    return (corners.reshape(-1, 2), pattern_points)\n",
    "\n",
    "# Building 2D-3D correspondeces\n",
    "chessboards = [processImage(fn) for fn in chess_img_name]\n",
    "chessboards = [x for x in chessboards if x is not None]\n",
    "\n",
    "obj_points = [] #3D points\n",
    "img_points = [] #2D points\n",
    "\n",
    "for (corners, pattern_points) in chessboards:\n",
    "        img_points.append(corners)\n",
    "        obj_points.append(pattern_points)\n",
    "\n",
    "# Getting the width and height of the images\n",
    "h, w = cv2.imread(chess_img_name[0], cv2.IMREAD_GRAYSCALE).shape[:2]\n",
    "\n",
    "# Calibrating Camera\n",
    "rms, camera_matrix, dist_coefs, rvecs, tvecs = cv2.calibrateCamera(obj_points, img_points, (w, h), None, None)"
   ]
  },
  {
   "cell_type": "code",
   "execution_count": null,
   "metadata": {},
   "outputs": [],
   "source": []
  }
 ],
 "metadata": {
  "kernelspec": {
   "display_name": "Python 3",
   "language": "python",
   "name": "python3"
  },
  "language_info": {
   "codemirror_mode": {
    "name": "ipython",
    "version": 3
   },
   "file_extension": ".py",
   "mimetype": "text/x-python",
   "name": "python",
   "nbconvert_exporter": "python",
   "pygments_lexer": "ipython3",
   "version": "3.6.9"
  }
 },
 "nbformat": 4,
 "nbformat_minor": 4
}
