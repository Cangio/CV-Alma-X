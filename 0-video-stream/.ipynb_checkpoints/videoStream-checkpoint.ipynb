{
 "cells": [
  {
   "cell_type": "markdown",
   "metadata": {},
   "source": [
    "# video-stream\n",
    "#\n",
    "# acquires viedo stream from calibrated camera\n",
    "# feeds it to a buffer\n",
    "\n",
    "\n",
    "https://towardsdatascience.com/video-streaming-in-the-jupyter-notebook-635bc5809e85\n",
    "\n",
    "https://github.com/QuantStack/quantstack-talks/tree/master/2018-11-14-PyParis-widgets/notebooks\n",
    "\n",
    "https://stackoverflow.com/questions/27882255/is-it-possible-to-display-an-opencv-video-inside-the-ipython-jupyter-notebook\n",
    "\n",
    "https://benhowell.github.io/guide/2015/03/09/opencv-and-web-cam-streaming"
   ]
  },
  {
   "cell_type": "code",
   "execution_count": 1,
   "metadata": {},
   "outputs": [],
   "source": [
    "import cv2 as cv\n",
    "import numpy as np\n",
    "import matplotlib.pyplot as plt\n",
    "# from IPython.display import clear_output\n",
    "\n",
    "def play_video(video_path,videoHeight=[],videoWidth=[],videoFPS=[]):\n",
    "    cap = cv.VideoCapture(video_path)\n",
    "    if type(videoFPS) is int: cap.set(cv.CAP_PROP_FPS,videoFPS)\n",
    "    else: print(\"fps: \", cap.get(cv.CAP_PROP_FPS))\n",
    "    if type(videoHeight) is int: cap.set(cv.CAP_PROP_FRAME_HEIGHT,videoHeight)\n",
    "    else:print(\"Height: \", cap.get(cv.CAP_PROP_FRAME_HEIGHT))\n",
    "    if type(videoWidth) is int: cap.set(cv.CAP_PROP_FRAME_WIDTH,videoWidth)\n",
    "    else:print(\"Width: \" , cap.get(cv.CAP_PROP_FRAME_WIDTH))\n",
    "    \n",
    "    try:# can stop this with jupy gui's stop or esc\n",
    "        while(True):\n",
    "            ret, frame = cap.read()\n",
    "            if not ret or frame is None:\n",
    "                cap.release();print(\"Released Video Resource\");cv.destroyAllWindows();break\n",
    "#             frame = cv.cvtColor(frame, cv2.COLOR_BGR2RGB)## can be set directly in video\n",
    "#             plt.axis('off');plt.title(\"Input Stream\");plt.imshow(frame);plt.show()\n",
    "#             clear_output(wait=True)\n",
    "            cv.imshow('Input Stream',frame)\n",
    "            keykey = cv.waitKey(30) & 0xff\n",
    "            if keykey == 27: cap.release();print(\"Released Video Resource\");cv.destroyAllWindows();break\n",
    "    except KeyboardInterrupt:cap.release();print(\"Released Video Resource\");cv.destroyAllWindows()\n",
    "\n"
   ]
  },
  {
   "cell_type": "code",
   "execution_count": 2,
   "metadata": {},
   "outputs": [
    {
     "name": "stdout",
     "output_type": "stream",
     "text": [
      "Height:  720.0\n",
      "Width:  1280.0\n",
      "Released Video Resource\n"
     ]
    }
   ],
   "source": [
    "## WORKING FOR FRANCESCO\n",
    "\n",
    "# launch play_video only when webcam available\n",
    "wait_camera=0\n",
    "if wait_camera:\n",
    "    import time\n",
    "    ret=False\n",
    "    while(not ret):    \n",
    "        cap = cv.VideoCapture('http://192.168.1.83:8080/video?type=some.mjpeg')\n",
    "        ret, frame = cap.read()\n",
    "        time.sleep(1);print('...waiting camera')\n",
    "    \n",
    "# play_video(0,videoHeight=600,videoWidth=800,videoFPS=10)\n",
    "play_video('http://192.168.1.83:8080/video?type=some.mjpeg',videoFPS=10)\n",
    "# play_video('rtsp://192.168.1.83:8080/h264_ulaw.sdp')"
   ]
  },
  {
   "cell_type": "code",
   "execution_count": 5,
   "metadata": {},
   "outputs": [],
   "source": [
    "# play multiple videos\n",
    "## they must be stick together in a single frame\n",
    "\n",
    "import cv2 as cv\n",
    "import numpy as np\n",
    "import matplotlib.pyplot as plt\n",
    "# from IPython.display import clear_output\n",
    "\n",
    "def play_two(video_path1,video_path2):\n",
    "    cap2 = cv.VideoCapture(video_path2)\n",
    "    height2,width2=cap2.get(cv.CAP_PROP_FRAME_HEIGHT),cap2.get(cv.CAP_PROP_FRAME_WIDTH)\n",
    "    cap1 = cv.VideoCapture(video_path1)\n",
    "    height1,width1=cap1.get(cv.CAP_PROP_FRAME_HEIGHT),cap1.get(cv.CAP_PROP_FRAME_WIDTH)\n",
    "    print(height1,height2)\n",
    "    try:# can stop this with jupy gui's stop or esc\n",
    "        while(True):\n",
    "            ret1, frame1 = cap1.read()\n",
    "            ret2, frame2 = cap2.read()\n",
    "\n",
    "            if not ret1 and not ret2:\n",
    "                cap1.release();cap2.release();print(\"Released Video Resource\");\n",
    "                cv.destroyAllWindows();break\n",
    "#             frame = cv.cvtColor(frame, cv2.COLOR_BGR2RGB)## can be set directly in video\n",
    "#             plt.axis('off');plt.title(\"Input Stream\");plt.imshow(frame);plt.show()\n",
    "#             clear_output(wait=True)\n",
    "            cv.imshow('Input Stream 1',frame1)\n",
    "            cv.imshow('Input Stream 2',frame2)\n",
    "\n",
    "            keykey = cv.waitKey(30) & 0xff\n",
    "            if keykey == 27:\n",
    "                cap1.release();cap2.release();print(\"Released Video Resource\");cv.destroyAllWindows();break\n",
    "    except KeyboardInterrupt:\n",
    "        cap1.release();cap2.release();print(\"Released Video Resource\");cv.destroyAllWindows()\n",
    "\n"
   ]
  },
  {
   "cell_type": "code",
   "execution_count": 7,
   "metadata": {},
   "outputs": [
    {
     "name": "stdout",
     "output_type": "stream",
     "text": [
      "...waiting camera\n",
      "720.0 1112.0\n"
     ]
    },
    {
     "ename": "error",
     "evalue": "OpenCV(3.4.2) /io/opencv/modules/highgui/src/window.cpp:356: error: (-215:Assertion failed) size.width>0 && size.height>0 in function 'imshow'\n",
     "output_type": "error",
     "traceback": [
      "\u001b[0;31m---------------------------------------------------------------------------\u001b[0m",
      "\u001b[0;31merror\u001b[0m                                     Traceback (most recent call last)",
      "\u001b[0;32m<ipython-input-7-a8cde7518e5b>\u001b[0m in \u001b[0;36m<module>\u001b[0;34m\u001b[0m\n\u001b[1;32m      9\u001b[0m \u001b[0;34m\u001b[0m\u001b[0m\n\u001b[1;32m     10\u001b[0m \u001b[0;31m# play_video(0,videoHeight=600,videoWidth=800,videoFPS=10)\u001b[0m\u001b[0;34m\u001b[0m\u001b[0;34m\u001b[0m\u001b[0;34m\u001b[0m\u001b[0m\n\u001b[0;32m---> 11\u001b[0;31m \u001b[0mplay_two\u001b[0m\u001b[0;34m(\u001b[0m\u001b[0;34m'http://192.168.1.83:8080/video?type=some.mjpeg'\u001b[0m\u001b[0;34m,\u001b[0m\u001b[0;34m'../images/video/task/task_extmark.avi'\u001b[0m\u001b[0;34m)\u001b[0m\u001b[0;34m\u001b[0m\u001b[0;34m\u001b[0m\u001b[0m\n\u001b[0m\u001b[1;32m     12\u001b[0m \u001b[0;31m# play_video('rtsp://192.168.1.83:8080/h264_ulaw.sdp')\u001b[0m\u001b[0;34m\u001b[0m\u001b[0;34m\u001b[0m\u001b[0;34m\u001b[0m\u001b[0m\n",
      "\u001b[0;32m<ipython-input-5-2fc78b2dbfd3>\u001b[0m in \u001b[0;36mplay_two\u001b[0;34m(video_path1, video_path2)\u001b[0m\n\u001b[1;32m     25\u001b[0m \u001b[0;31m#             clear_output(wait=True)\u001b[0m\u001b[0;34m\u001b[0m\u001b[0;34m\u001b[0m\u001b[0;34m\u001b[0m\u001b[0m\n\u001b[1;32m     26\u001b[0m             \u001b[0mcv\u001b[0m\u001b[0;34m.\u001b[0m\u001b[0mimshow\u001b[0m\u001b[0;34m(\u001b[0m\u001b[0;34m'Input Stream 1'\u001b[0m\u001b[0;34m,\u001b[0m\u001b[0mframe1\u001b[0m\u001b[0;34m)\u001b[0m\u001b[0;34m\u001b[0m\u001b[0;34m\u001b[0m\u001b[0m\n\u001b[0;32m---> 27\u001b[0;31m             \u001b[0mcv\u001b[0m\u001b[0;34m.\u001b[0m\u001b[0mimshow\u001b[0m\u001b[0;34m(\u001b[0m\u001b[0;34m'Input Stream 2'\u001b[0m\u001b[0;34m,\u001b[0m\u001b[0mframe2\u001b[0m\u001b[0;34m)\u001b[0m\u001b[0;34m\u001b[0m\u001b[0;34m\u001b[0m\u001b[0m\n\u001b[0m\u001b[1;32m     28\u001b[0m \u001b[0;34m\u001b[0m\u001b[0m\n\u001b[1;32m     29\u001b[0m             \u001b[0mkeykey\u001b[0m \u001b[0;34m=\u001b[0m \u001b[0mcv\u001b[0m\u001b[0;34m.\u001b[0m\u001b[0mwaitKey\u001b[0m\u001b[0;34m(\u001b[0m\u001b[0;36m30\u001b[0m\u001b[0;34m)\u001b[0m \u001b[0;34m&\u001b[0m \u001b[0;36m0xff\u001b[0m\u001b[0;34m\u001b[0m\u001b[0;34m\u001b[0m\u001b[0m\n",
      "\u001b[0;31merror\u001b[0m: OpenCV(3.4.2) /io/opencv/modules/highgui/src/window.cpp:356: error: (-215:Assertion failed) size.width>0 && size.height>0 in function 'imshow'\n"
     ]
    }
   ],
   "source": [
    "wait_camera=1\n",
    "if wait_camera:\n",
    "    import time\n",
    "    ret=False\n",
    "    while(not ret):    \n",
    "        cap = cv.VideoCapture('http://192.168.1.83:8080/video?type=some.mjpeg')\n",
    "        ret, frame = cap.read()\n",
    "        time.sleep(1);print('...waiting camera')\n",
    "    \n",
    "# play_video(0,videoHeight=600,videoWidth=800,videoFPS=10)\n",
    "play_two('http://192.168.1.83:8080/video?type=some.mjpeg','../images/video/task/task_extmark.avi')\n",
    "# play_video('rtsp://192.168.1.83:8080/h264_ulaw.sdp')"
   ]
  }
 ],
 "metadata": {
  "kernelspec": {
   "display_name": "Python 3",
   "language": "python",
   "name": "python3"
  },
  "language_info": {
   "codemirror_mode": {
    "name": "ipython",
    "version": 3
   },
   "file_extension": ".py",
   "mimetype": "text/x-python",
   "name": "python",
   "nbconvert_exporter": "python",
   "pygments_lexer": "ipython3",
   "version": "3.6.9"
  }
 },
 "nbformat": 4,
 "nbformat_minor": 4
}
