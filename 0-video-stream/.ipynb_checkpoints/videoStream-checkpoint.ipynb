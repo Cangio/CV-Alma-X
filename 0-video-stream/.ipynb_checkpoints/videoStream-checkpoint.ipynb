{
 "cells": [
  {
   "cell_type": "markdown",
   "metadata": {},
   "source": [
    "# video-stream\n",
    "#\n",
    "# acquires viedo stream from calibrated camera\n",
    "# feeds it to a buffer\n",
    "\n",
    "\n",
    "https://towardsdatascience.com/video-streaming-in-the-jupyter-notebook-635bc5809e85\n",
    "\n",
    "https://github.com/QuantStack/quantstack-talks/tree/master/2018-11-14-PyParis-widgets/notebooks\n",
    "\n",
    "https://stackoverflow.com/questions/27882255/is-it-possible-to-display-an-opencv-video-inside-the-ipython-jupyter-notebook\n",
    "\n",
    "https://benhowell.github.io/guide/2015/03/09/opencv-and-web-cam-streaming"
   ]
  },
  {
   "cell_type": "code",
   "execution_count": 1,
   "metadata": {},
   "outputs": [],
   "source": [
    "import cv2 as cv\n",
    "import numpy as np\n",
    "import matplotlib.pyplot as plt\n",
    "# from IPython.display import clear_output\n",
    "\n",
    "def play_video(video_path,videoHeight=[],videoWidth=[],videoFPS=[]):\n",
    "    cap = cv.VideoCapture(video_path)\n",
    "    if type(videoFPS) is int: cap.set(cv.CAP_PROP_FPS,videoFPS)\n",
    "    else: print(\"fps: \", cap.get(cv.CAP_PROP_FPS))\n",
    "    if type(videoHeight) is int: cap.set(cv.CAP_PROP_FRAME_HEIGHT,videoHeight)\n",
    "    else:print(\"Height: \", cap.get(cv.CAP_PROP_FRAME_HEIGHT))\n",
    "    if type(videoWidth) is int: cap.set(cv.CAP_PROP_FRAME_WIDTH,videoWidth)\n",
    "    else:print(\"Width: \" , cap.get(cv.CAP_PROP_FRAME_WIDTH))\n",
    "    \n",
    "    try:# can stop this with jupy gui's stop or esc\n",
    "        while(True):\n",
    "            ret, frame = cap.read()\n",
    "            if not ret or frame is None:\n",
    "                cap.release();print(\"Released Video Resource\");cv.destroyAllWindows();break\n",
    "#             frame = cv.cvtColor(frame, cv2.COLOR_BGR2RGB)## can be set directly in video\n",
    "#             plt.axis('off');plt.title(\"Input Stream\");plt.imshow(frame);plt.show()\n",
    "#             clear_output(wait=True)\n",
    "            cv.imshow('Input Stream',frame)\n",
    "            keykey = cv.waitKey(30) & 0xff\n",
    "            if keykey == 27: cap.release();print(\"Released Video Resource\");cv.destroyAllWindows();break\n",
    "    except KeyboardInterrupt:cap.release();print(\"Released Video Resource\");cv.destroyAllWindows()\n",
    "\n"
   ]
  },
  {
   "cell_type": "code",
   "execution_count": 2,
   "metadata": {},
   "outputs": [
    {
     "name": "stdout",
     "output_type": "stream",
     "text": [
      "Height:  1080.0\n",
      "Width:  1920.0\n",
      "Released Video Resource\n"
     ]
    }
   ],
   "source": [
    "## WORKING FOR FRANCESCO\n",
    "\n",
    "# play_video(0,videoHeight=600,videoWidth=800,videoFPS=10)\n",
    "play_video('http://192.168.1.83:8080/video?type=some.mjpeg',videoFPS=10)\n",
    "# play_video('rtsp://192.168.1.83:8080/h264_ulaw.sdp')"
   ]
  }
 ],
 "metadata": {
  "kernelspec": {
   "display_name": "Python 3",
   "language": "python",
   "name": "python3"
  },
  "language_info": {
   "codemirror_mode": {
    "name": "ipython",
    "version": 3
   },
   "file_extension": ".py",
   "mimetype": "text/x-python",
   "name": "python",
   "nbconvert_exporter": "python",
   "pygments_lexer": "ipython3",
   "version": "3.6.9"
  }
 },
 "nbformat": 4,
 "nbformat_minor": 4
}
