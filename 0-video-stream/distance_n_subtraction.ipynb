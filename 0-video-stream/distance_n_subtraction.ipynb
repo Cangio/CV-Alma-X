{
 "cells": [
  {
   "cell_type": "markdown",
   "metadata": {},
   "source": [
    "background remotion by single(first) frame or mean of many of them\n",
    "\n",
    "distance between frames"
   ]
  },
  {
   "cell_type": "code",
   "execution_count": null,
   "metadata": {},
   "outputs": [],
   "source": [
    "import numpy as np\n",
    "import cv2\n",
    "from matplotlib import pyplot as plt\n",
    "# Import additional library to properply play videos on jupyter notebook\n",
    "from IPython.display import clear_output\n",
    "\n",
    "# Defining a variable interpolation for mean or median functions\n",
    "interpolation = np.median # or np.mean\n",
    "\n",
    "# Loading Video\n",
    "num_frame_bg = 100\n",
    "bg = []\n",
    "idx = 0\n",
    "cap = cv2.VideoCapture('ex/1.avi')\n",
    "\n",
    "# Initialize the background image\n",
    "try:\n",
    "    while(cap.isOpened() and idx < num_frame_bg):\n",
    "        ret, frame = cap.read()\n",
    "        if ret and not frame is None:\n",
    "            frame = frame.astype(float)\n",
    "            # Getting all first n images\n",
    "            bg.append(frame)\n",
    "            idx += 1\n",
    "        else:\n",
    "            break\n",
    "    cap.release()\n",
    "    \n",
    "    # Finding the background as the mean or median of first n frames\n",
    "    bg_interpolated = np.stack(bg, axis=0)\n",
    "    # Median\n",
    "    bg_interpolated = interpolation(bg_interpolated, axis=0)\n",
    "    \n",
    "    plt.title(\"Background\")\n",
    "    plt.imshow(cv2.cvtColor(bg_interpolated.astype(np.uint8), cv2.COLOR_BGR2RGB))\n",
    "    plt.show()\n",
    "except KeyboardInterrupt:\n",
    "    # If we press top release the video\n",
    "    cap.release()\n",
    "    print(\"Released Video Resource\")\n",
    "    \n",
    "# Loading Video\n",
    "threshold = 20\n",
    "cap = cv2.VideoCapture('ex/1.avi')\n",
    "distance = l1_distance\n",
    "# Background subtraction\n",
    "try:\n",
    "    while(cap.isOpened()):\n",
    "        ret, frame = cap.read()\n",
    "        if ret and not frame is None:\n",
    "            frame = frame.astype(float)\n",
    "            mask = distance(frame, bg_interpolated) > threshold\n",
    "            display_image_and_mask(frame, mask)\n",
    "            clear_output(wait=True)\n",
    "        else:\n",
    "            break\n",
    "    cap.release()\n",
    "except KeyboardInterrupt:\n",
    "    # If we press stop release the video\n",
    "    cap.release()\n",
    "    print(\"Released Video Resource\")"
   ]
  }
 ],
 "metadata": {
  "kernelspec": {
   "display_name": "Python 3",
   "language": "python",
   "name": "python3"
  },
  "language_info": {
   "codemirror_mode": {
    "name": "ipython",
    "version": 3
   },
   "file_extension": ".py",
   "mimetype": "text/x-python",
   "name": "python",
   "nbconvert_exporter": "python",
   "pygments_lexer": "ipython3",
   "version": "3.6.9"
  }
 },
 "nbformat": 4,
 "nbformat_minor": 4
}
