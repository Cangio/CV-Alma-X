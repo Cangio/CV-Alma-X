{
 "cells": [
  {
   "cell_type": "code",
   "execution_count": null,
   "metadata": {},
   "outputs": [],
   "source": [
    "def show_two_imgs(img1, text1, img2, text2):\n",
    "    plt.figure(figsize=(20,10))\n",
    "    \n",
    "    plt.subplot(1,2,1)\n",
    "    if img1.shape[-1] == 3:\n",
    "        plt.imshow(cv2.cvtColor(img1, cv2.COLOR_BGR2RGB))\n",
    "    else:\n",
    "        plt.imshow(img1, cmap = 'gray', vmin=0, vmax=255)\n",
    "    plt.title(text1)\n",
    "\n",
    "    plt.subplot(1,2,2)\n",
    "    if img2.shape[-1] == 3:\n",
    "        plt.imshow(cv2.cvtColor(img2, cv2.COLOR_BGR2RGB))\n",
    "    else:\n",
    "        plt.imshow(img2, cmap = 'gray', vmin=0, vmax=255)\n",
    "    plt.title(text2)\n",
    "    plt.show()"
   ]
  }
 ],
 "metadata": {
  "kernelspec": {
   "display_name": "Python 3",
   "language": "python",
   "name": "python3"
  },
  "language_info": {
   "codemirror_mode": {
    "name": "ipython",
    "version": 3
   },
   "file_extension": ".py",
   "mimetype": "text/x-python",
   "name": "python",
   "nbconvert_exporter": "python",
   "pygments_lexer": "ipython3",
   "version": "3.6.9"
  }
 },
 "nbformat": 4,
 "nbformat_minor": 2
}
