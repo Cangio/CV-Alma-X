{
 "cells": [
  {
   "cell_type": "markdown",
   "metadata": {},
   "source": [
    "# USEFULL FILTERS\n",
    "\n",
    "\n",
    "### bilateral filters\n",
    "\n",
    "usefull to improve edges while removing noise all around\n",
    "\n",
    "### gaussian filter\n",
    "\n",
    "removing noise\n",
    "\n",
    "### laplacian filter\n",
    "\n",
    "improves edges"
   ]
  },
  {
   "cell_type": "code",
   "execution_count": null,
   "metadata": {},
   "outputs": [],
   "source": [
    "# bilateral and laplacian filters\n",
    "import cv2\n",
    "from matplotlib import pyplot as plt\n",
    "import numpy as np\n",
    "\n",
    "image=cv2.imread('body/box2.jpg')\n",
    "\n",
    "kernel = np.array([[1, 1, 1], [1, -8, 1], [1, 1, 1]], dtype=np.float32)#-8 for diagonals too, -4 x,y distances\n",
    "##32 bit for the negative values in kernel and filtered image\n",
    "imgLaplacian = cv2.filter2D(image, cv2.CV_32F, kernel)\n",
    "##instead of cv2.CV_32F can pass -1 for same depth as source\n",
    "imgResult = np.float32(image) - imgLaplacian\n",
    "# convert back to 8bits gray scale\n",
    "imgResult = np.clip(imgResult, 0, 255)\n",
    "imgResult = imgResult.astype('uint8')\n",
    "imgLaplacian = np.clip(imgLaplacian, 0, 255)\n",
    "imgLaplacian = np.uint8(imgLaplacian)\n",
    "\n",
    "imgBilat=cv2.bilateralFilter(image,21,51,51)\n",
    "#plt.imshow(imgLaplacian)\n",
    "#plt.show()\n",
    "plt.subplot(1,3,1)\n",
    "plt.imshow(imgBilat)\n",
    "plt.subplot(1,3,2)\n",
    "plt.imshow(image)\n",
    "plt.subplot(1,3,3)\n",
    "plt.imshow(imgResult)\n",
    "plt.show()\n",
    "\n",
    "ddepth = cv2.CV_32F\n",
    "kernel_size = 3\n",
    "#src = cv.GaussianBlur(src, (3, 3), 0)\n",
    "imgLaplacian2 = cv2.Laplacian(image, ddepth, ksize=kernel_size)\n",
    "imgLaplacian2 = np.clip(imgLaplacian2, 0, 255)\n",
    "imgLaplacian2 = np.uint8(imgLaplacian2)\n",
    "\n",
    "\n",
    "plt.subplot(1,2,1)\n",
    "plt.imshow(imgLaplacian2)\n",
    "plt.subplot(1,2,2)\n",
    "plt.imshow(imgLaplacian)\n",
    "plt.show()"
   ]
  },
  {
   "cell_type": "markdown",
   "metadata": {},
   "source": [
    "clear improvement in the contours of the image\n",
    "\n",
    "apllying cv2.Laplacian has same effects\n",
    "\n"
   ]
  },
  {
   "cell_type": "markdown",
   "metadata": {},
   "source": [
    "### deriche edge detector\n",
    "\n",
    "https://en.wikipedia.org/wiki/Deriche_edge_detector\n",
    "\n",
    "Using the IIR filter makes sense especially in cases where the processed image is noisy or a large amount of smoothing is required (which leads to large convolution kernel for FIR filter). In these cases, the Deriche detector has considerable advantage over the Canny detector, because it is able to process images in a short constant time independent of the desired amount of smoothing. "
   ]
  },
  {
   "cell_type": "markdown",
   "metadata": {},
   "source": []
  },
  {
   "cell_type": "code",
   "execution_count": null,
   "metadata": {},
   "outputs": [],
   "source": []
  },
  {
   "cell_type": "code",
   "execution_count": null,
   "metadata": {},
   "outputs": [],
   "source": []
  },
  {
   "cell_type": "code",
   "execution_count": null,
   "metadata": {},
   "outputs": [],
   "source": []
  }
 ],
 "metadata": {
  "kernelspec": {
   "display_name": "Python 3",
   "language": "python",
   "name": "python3"
  },
  "language_info": {
   "codemirror_mode": {
    "name": "ipython",
    "version": 3
   },
   "file_extension": ".py",
   "mimetype": "text/x-python",
   "name": "python",
   "nbconvert_exporter": "python",
   "pygments_lexer": "ipython3",
   "version": "3.6.9"
  }
 },
 "nbformat": 4,
 "nbformat_minor": 4
}
