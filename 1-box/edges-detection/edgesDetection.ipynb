{
 "cells": [
  {
   "cell_type": "markdown",
   "metadata": {},
   "source": [
    "# EDGES DETECTION AND IMPROVEMENT\n",
    "\n",
    "### idea:\n",
    "\n",
    "##### 0) prefiltering\n",
    "enhance contours\n",
    "\n",
    "##### 1) edges detection\n",
    "canny's\n",
    "\n",
    "##### 2) postfiltering\n",
    "artifacts remotion, dilation, specific kernel for direction,...\n",
    "\n",
    "##### 3?) contours detection\n",
    "using contours functions\n",
    "\n",
    "##### 999) postfiltering\n",
    "\n",
    "### output: contours"
   ]
  },
  {
   "cell_type": "code",
   "execution_count": null,
   "metadata": {},
   "outputs": [],
   "source": [
    "import cv2\n",
    "import numpy as np\n",
    "from matplotlib import pyplot as plt\n",
    "\n",
    "#read image\n",
    "\n",
    "#image.copy()\n",
    "\n",
    "#prefiltering: contours enhancing, noise reduction?\n",
    "\n",
    "# grayscaling, binarization?\n"
   ]
  },
  {
   "cell_type": "markdown",
   "metadata": {},
   "source": []
  },
  {
   "cell_type": "code",
   "execution_count": null,
   "metadata": {},
   "outputs": [],
   "source": [
    "#edges detection\n",
    "\n",
    "#filtering: removing small elements, directional kernels?"
   ]
  },
  {
   "cell_type": "markdown",
   "metadata": {},
   "source": []
  },
  {
   "cell_type": "code",
   "execution_count": null,
   "metadata": {},
   "outputs": [],
   "source": [
    "#contours?: improved filtering with contours functions\n"
   ]
  },
  {
   "cell_type": "markdown",
   "metadata": {},
   "source": []
  },
  {
   "cell_type": "code",
   "execution_count": null,
   "metadata": {},
   "outputs": [],
   "source": []
  },
  {
   "cell_type": "markdown",
   "metadata": {},
   "source": [
    "### ideal output:  edges, contours"
   ]
  }
 ],
 "metadata": {
  "kernelspec": {
   "display_name": "Python 3",
   "language": "python",
   "name": "python3"
  },
  "language_info": {
   "codemirror_mode": {
    "name": "ipython",
    "version": 3
   },
   "file_extension": ".py",
   "mimetype": "text/x-python",
   "name": "python",
   "nbconvert_exporter": "python",
   "pygments_lexer": "ipython3",
   "version": "3.6.9"
  }
 },
 "nbformat": 4,
 "nbformat_minor": 4
}
