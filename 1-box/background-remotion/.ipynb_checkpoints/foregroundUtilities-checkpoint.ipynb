{
 "cells": [
  {
   "cell_type": "code",
   "execution_count": 1,
   "metadata": {},
   "outputs": [],
   "source": [
    "%run foregroundDependencies.ipynb\n",
    "\n",
    "# extract first frame and save\n",
    "\n",
    "# videoSrc='../../images/video/desk/desk1.mp4'\n",
    "videoSrc='http://192.168.1.83:8080/video?type=some.mjpeg'\n",
    "\n",
    "    \n",
    "objectVideo = cv.VideoCapture(videoSrc)\n",
    "if objectVideo.isOpened():\n",
    "    returnCapture, frameVid =objectVideo.read()\n",
    "    cv.imwrite('../../images/test/box/box1.jpg',frameVid)"
   ]
  }
 ],
 "metadata": {
  "kernelspec": {
   "display_name": "Python 3",
   "language": "python",
   "name": "python3"
  },
  "language_info": {
   "codemirror_mode": {
    "name": "ipython",
    "version": 3
   },
   "file_extension": ".py",
   "mimetype": "text/x-python",
   "name": "python",
   "nbconvert_exporter": "python",
   "pygments_lexer": "ipython3",
   "version": "3.6.9"
  }
 },
 "nbformat": 4,
 "nbformat_minor": 4
}
