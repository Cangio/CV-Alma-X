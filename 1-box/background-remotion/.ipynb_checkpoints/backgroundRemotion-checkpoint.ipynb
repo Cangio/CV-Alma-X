{
 "cells": [
  {
   "cell_type": "markdown",
   "metadata": {},
   "source": [
    "# BACK/FOREGROUND SEPARATION\n",
    "\n",
    "\n",
    "\n",
    "\n",
    "### input: single frame extracted from video stream\n",
    "\n",
    "### basic idea:\n",
    "##### 1) decide when there is no panel in sight\n",
    "histogram distribution\n",
    "\n",
    "##### 2) sample image to extract background color\n",
    "use mean/camshift to reach a particularly populated area wrt certaint distribution of pixels\n",
    "\n",
    "##### 3) extract background pixel from the image\n",
    "backprojection\n",
    "\n",
    "##### 4) result improvement\n",
    "\n",
    "### output: image with roi for panel recognition\n"
   ]
  },
  {
   "cell_type": "markdown",
   "metadata": {},
   "source": [
    "((https://stackoverflow.com/questions/44825180/rectangle-document-detection-using-hough-transform-opencv-android))\n",
    "\n",
    "https://docs.opencv.org/master/d7/d7b/classcv_1_1BackgroundSubtractorMOG2.html\n",
    "\n",
    "https://docs.opencv.org/master/de/df4/tutorial_js_bg_subtraction.html\n",
    "\n",
    "https://docs.opencv.org/master/d1/dc5/tutorial_background_subtraction.html\n",
    "\n",
    "https://stackoverflow.com/questions/22133178/moving-background-subtraction-opencv\n",
    "\n",
    "using background subtraction library, calculating background as the mean of various images (i.e. extracted frames from a video of the surraounding"
   ]
  },
  {
   "cell_type": "markdown",
   "metadata": {},
   "source": []
  },
  {
   "cell_type": "code",
   "execution_count": null,
   "metadata": {},
   "outputs": [],
   "source": [
    "import cv2\n",
    "import numpy as np\n",
    "from matplotlib import pyplot as plt\n",
    "\n",
    "#read the colored image\n",
    "\n",
    "#conversion in adequate color space\n",
    "\n",
    "#image.copy()\n",
    "\n",
    "#prefiltering: noise reduction, color enhancement\n",
    "\n"
   ]
  },
  {
   "cell_type": "markdown",
   "metadata": {},
   "source": [
    "adaptive color mask:\n",
    "analyze histogram to find most common pixel value, this values should be the one representative of the terrain\n",
    "**issues** luminosity spikes, lightly colored rocks\n",
    "**how** histogram of various random points points comprared with total histogram"
   ]
  },
  {
   "cell_type": "code",
   "execution_count": null,
   "metadata": {},
   "outputs": [],
   "source": [
    "#histogram analysis to find most representative color ranges/areas for background\n",
    "\n",
    "#histogram backprojection to identify and remove background pixels"
   ]
  },
  {
   "cell_type": "markdown",
   "metadata": {},
   "source": []
  },
  {
   "cell_type": "code",
   "execution_count": null,
   "metadata": {},
   "outputs": [],
   "source": [
    "#remotion of artifacts/small blobs, analysis of less/most transformed areas"
   ]
  },
  {
   "cell_type": "markdown",
   "metadata": {},
   "source": [
    "### ideal output: image of panel with few other elements, polarized background"
   ]
  }
 ],
 "metadata": {
  "kernelspec": {
   "display_name": "Python 3",
   "language": "python",
   "name": "python3"
  },
  "language_info": {
   "codemirror_mode": {
    "name": "ipython",
    "version": 3
   },
   "file_extension": ".py",
   "mimetype": "text/x-python",
   "name": "python",
   "nbconvert_exporter": "python",
   "pygments_lexer": "ipython3",
   "version": "3.6.9"
  }
 },
 "nbformat": 4,
 "nbformat_minor": 4
}
