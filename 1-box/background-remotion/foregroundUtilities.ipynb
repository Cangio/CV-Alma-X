{
 "cells": [
  {
   "cell_type": "code",
   "execution_count": 4,
   "metadata": {},
   "outputs": [],
   "source": [
    "%run foregroundDependencies.ipynb\n",
    "\n",
    "# extract first frame and save\n",
    "\n",
    "videoSrc='../../images/video/desk/desk1.mp4'\n",
    "    \n",
    "objectVideo = cv.VideoCapture(videoSrc)\n",
    "if objectVideo.isOpened():\n",
    "    returnCapture, frameVid =objectVideo.read()\n",
    "    cv.imwrite('../../images/desk/desk.jpg',frameVid)"
   ]
  }
 ],
 "metadata": {
  "kernelspec": {
   "display_name": "Python 3",
   "language": "python",
   "name": "python3"
  },
  "language_info": {
   "codemirror_mode": {
    "name": "ipython",
    "version": 3
   },
   "file_extension": ".py",
   "mimetype": "text/x-python",
   "name": "python",
   "nbconvert_exporter": "python",
   "pygments_lexer": "ipython3",
   "version": "3.6.9"
  }
 },
 "nbformat": 4,
 "nbformat_minor": 4
}
