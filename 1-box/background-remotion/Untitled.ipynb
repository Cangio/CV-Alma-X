{
 "cells": [
  {
   "cell_type": "code",
   "execution_count": null,
   "metadata": {},
   "outputs": [],
   "source": [
    "\n",
    "\n",
    "while(1):\n",
    "\n",
    "    rcO=[sum(jj) for jj in zip(rco, oO)]##increasing\n",
    "    rcC=rcCx,rcCy=[sum(jj) for jj in zip(CO, np.negative(rcO))]##as convention\n",
    "\n",
    "    # tracks current and previous distances to find oscillations around POV center\n",
    "    motestx.append(rcCx)\n",
    "    motestx.pop(0)\n",
    "    if motestx[0]*motestx[1]<0 and motestx[0]*motestx[2]>0:\n",
    "        # traverse action dimming\n",
    "        motx=motx//2\n",
    "        print('oscilaltions along x!horizontal speed reduction')\n",
    "    # motion termination test\n",
    "    if abs(rcCx)<epsx :\n",
    "        # set motion action as initial for future requests\n",
    "        motx=motx0\n",
    "        print('terminating motion along x...')\n",
    "        # interrupts action\n",
    "        break\n",
    "    range\n",
    "    #else    \n",
    "    print('moving')\n",
    "    # motion direction\n",
    "    stepx=32 # €[1,motx]\n",
    "    if np.sign(rcCx)>0:\n",
    "        for count in range(0,motx,stepx):\n",
    "            print('step ',count,'/',motx)\n",
    "            oO=oOx,oOy=oOx+stepx,oOy\n",
    "            backprint=background.copy()\n",
    "            backprint[oOy:oOy+h,oOx:oOx+w]=forehud\n",
    "    # POV center marker\n",
    "            cv.circle(backprint,CO,40,(0,0,255),20)\n",
    "            plt.imshow(cv.cvtColor(backprint[CO[1]-(hr//2):CO[1]+hr//2,:],cv.COLOR_BGR2RGB))\n",
    "            #plt.imshow(backprint[CO[1]-(hr//2+5):CO[1]+hr//2+5,\\\n",
    "            #    min(rcO[0]-wr//2-5,CO[0]-wr//2-5):max(rcO[0]+wr//2+5,CO[0]+wr//2+5)])\n",
    "            plt.show()\n",
    "    else:\n",
    "        for count in range(0,motx,stepx):\n",
    "            print('step ',count,'/',motx)\n",
    "            oO=oOx,oOy=oOx-stepx,oOy\n",
    "            backprint=background.copy()\n",
    "            backprint[oOy:oOy+h,oOx:oOx+w]=forehud\n",
    "    # POV center marker\n",
    "            cv.circle(backprint,CO,40,(0,0,255),20)\n",
    "            plt.imshow(cv.cvtColor(backprint[CO[1]-(hr//2):CO[1]+hr//2,:],cv.COLOR_BGR2RGB))\n",
    "            #plt.imshow(backprint[CO[1]-(hr//2+5):CO[1]+hr//2+5,\\\n",
    "            #    min(rcO[0]-wr//2-5,CO[0]-wr//2-5):max(rcO[0]+wr//2+5,CO[0]+wr//2+5)])\n",
    "            plt.show()\n",
    "\n",
    "print('motion terminated')"
   ]
  }
 ],
 "metadata": {
  "kernelspec": {
   "display_name": "Python 3",
   "language": "python",
   "name": "python3"
  },
  "language_info": {
   "codemirror_mode": {
    "name": "ipython",
    "version": 3
   },
   "file_extension": ".py",
   "mimetype": "text/x-python",
   "name": "python",
   "nbconvert_exporter": "python",
   "pygments_lexer": "ipython3",
   "version": "3.6.9"
  }
 },
 "nbformat": 4,
 "nbformat_minor": 4
}
