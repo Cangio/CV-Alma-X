{
 "cells": [
  {
   "cell_type": "markdown",
   "metadata": {},
   "source": [
    "# PANEL'S BODY RECONSTRUCTION\n",
    "## finds rectangular shapes\n",
    "## understand which ones could be a box\n",
    "## indentifies panel's body\n",
    "\n",
    "Before the rover can autonomously manipulate the panel with its arm, it should locate and reach the panel structure itself in the Marsyard area; this code provide a way for the vision system to tell the panel's body from the terrain, discriminating color and shape, and reconstruct it's position while choosing the best way to approach it. It operates in this way:\n",
    "\n",
    "1.**contours individuation**\n",
    "The terrain has a reddish tone, while the panel itself will be white or shiny metal; a color mask it's applied to segment the current view (assumption: panel itself it's already contained in the current view) and the result will be used to extract contours\n",
    "\n",
    "**var**: search for contours in both unmodified and masked image, then try to match contours present in both\n",
    "\n",
    "2.**candidate contours selection**\n",
    "Only contours composed by 4 elements (edges) are considered; to reject the errors, a test on the area enclosed by the lines is performed: the ratio between biggest one found (by testing all) and the tested one, should not be too small (value calculated with respect too surfaces' dimension of the panel). Since the camera is, in reality, able to view up to 3 sides of the panel (box shaped), only the 3 biggest candidates that fullfill previous condition are selected.\n",
    "\n",
    "**var**: selection wrt attended dimension computed by panel's distance (what's panel dist though?)\n",
    "\n",
    "**var2**: contourse sharing an edge: body's one should share up to 2 lines each\n",
    "\n",
    "3.**selected candidates test**\n",
    "vertices, prospective transformatoin, hough rectangle test, attached reference sys\n",
    "\n",
    "**var**: perpendicular edges (possibly its hough test itself)\n",
    "\n",
    "4.**shape reconstruction**\n",
    "intersection, volume extension, centroid, box drawed \n",
    "disegno la scatola e centroide\n",
    "\n",
    "## proposed mod.\n",
    "\n",
    "join part 2 and 3: since the contours are given, for a set view, conditions,camera position, ..., this can be passed to the following part which iteratively cheks them\n",
    "\n",
    "join 1,2 and 3: since the former and since usually check on the number of edges is more clear if done in contours detection\n"
   ]
  },
  {
   "cell_type": "code",
   "execution_count": null,
   "metadata": {},
   "outputs": [],
   "source": [
    "import cv2\n",
    "import numpy as np\n",
    "from matplotlib import pyplot as plt\n"
   ]
  },
  {
   "cell_type": "markdown",
   "metadata": {},
   "source": [
    "# 1.**contours individuation**\n",
    "\n",
    "1. mask color\n",
    "2. mask application\n",
    "3. segmentation\n",
    "4. contours"
   ]
  },
  {
   "cell_type": "code",
   "execution_count": 3,
   "metadata": {},
   "outputs": [],
   "source": [
    "\n",
    "\n",
    "\n"
   ]
  },
  {
   "cell_type": "markdown",
   "metadata": {},
   "source": [
    "# 2.**candidate contours selection**\n",
    "\n",
    "1. contours wiht 4 edges\n",
    "2. max area contour\n",
    "3. contours with similar area\n",
    "\n",
    "###\n",
    "4. contours sharing edges or with certain dimension\n"
   ]
  },
  {
   "cell_type": "code",
   "execution_count": null,
   "metadata": {},
   "outputs": [],
   "source": []
  },
  {
   "cell_type": "markdown",
   "metadata": {},
   "source": [
    "# 3.**selected candidates test**\n",
    "\n",
    "1. candidates' vertices\n",
    "2. prospective transformation \n",
    "3. hough shape test\n",
    "4. attached reference system"
   ]
  },
  {
   "cell_type": "markdown",
   "metadata": {},
   "source": []
  },
  {
   "cell_type": "markdown",
   "metadata": {},
   "source": [
    "# 4.**shape reconstruction**\n",
    "\n",
    "1. intersection\n",
    "2. box identifycation\n",
    "3. centroid and size\n",
    "4. thresholding of external bodies to improve further performance"
   ]
  },
  {
   "cell_type": "code",
   "execution_count": null,
   "metadata": {},
   "outputs": [],
   "source": [
    "\n"
   ]
  },
  {
   "cell_type": "markdown",
   "metadata": {},
   "source": [
    "# DOCUMENTATION\n",
    "OpenCV + Python Rectangle Detection Example\n",
    "https://www.youtube.com/watch?v=T9P10FAp8Qw\n",
    "\n",
    "1)https://mehmethanoglu.com.tr/blog/6-opencv-ile-dikdortgen-algilama-python.html\n",
    "\n",
    "https://youtu.be/HpaY0HOomAI\n",
    "\n",
    "    https://github.com/shibatch/rectdetect\n",
    "\n",
    "https://youtu.be/Fchzk1lDt7Q\n",
    "\n",
    "https://docs.opencv.org/master/d3/dc0/group__imgproc__shape.html\n",
    "\n",
    "https://stackoverflow.com/questions/44522012/rectangle-detection-tracking-using-opencv\n",
    "\n",
    "https://docs.opencv.org/3.4/dd/d49/tutorial_py_contour_features.html\n",
    "\n",
    "https://docs.opencv.org/3.4/da/d0c/tutorial_bounding_rects_circles.html\n",
    "\n",
    "https://cv-tricks.com/opencv-dnn/edge-detection-hed/\n",
    "\n",
    "https://arxiv.org/pdf/1703.10896.pdf\n",
    "\n",
    "https://www.youtube.com/watch?v=zzcipxzZP9E\n",
    "\n",
    "#######\n",
    "\n",
    "https://stackoverflow.com/questions/57125879/improve-rectangle-contour-detection-in-image-using-opencv\n",
    "\n",
    "https://stackoverflow.com/questions/44295099/how-to-identify-incomplete-rectangles-in-opencv\n",
    "\n",
    "https://stackoverflow.com/questions/14795246/rectangular-approximation-of-contours\n",
    "\n",
    "use contours as array:\n",
    "\n",
    "https://stackoverflow.com/questions/33958977/contour-approximation-opencv\n",
    "\n",
    "https://docs.opencv.org/3.4/dd/d49/tutorial_py_contour_features.html"
   ]
  },
  {
   "cell_type": "markdown",
   "metadata": {},
   "source": [
    "https://docs.opencv.org/4.2.0/"
   ]
  }
 ],
 "metadata": {
  "kernelspec": {
   "display_name": "Python 3",
   "language": "python",
   "name": "python3"
  },
  "language_info": {
   "codemirror_mode": {
    "name": "ipython",
    "version": 3
   },
   "file_extension": ".py",
   "mimetype": "text/x-python",
   "name": "python",
   "nbconvert_exporter": "python",
   "pygments_lexer": "ipython3",
   "version": "3.6.9"
  }
 },
 "nbformat": 4,
 "nbformat_minor": 4
}
