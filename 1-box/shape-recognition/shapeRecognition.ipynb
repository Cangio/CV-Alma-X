{
 "cells": [
  {
   "cell_type": "markdown",
   "metadata": {},
   "source": [
    "# SHAPE DETECTION\n",
    "\n",
    "### idea:\n",
    "\n",
    "1) **lines detection**\n",
    "using hough transform\n",
    "\n",
    "2) **intersections/corners**\n",
    "\n",
    "3) **polygonal approximation and testing**\n",
    "\n",
    "4) **surfaces orientation**\n",
    "\n",
    "5) **box reconstruction**\n",
    "\n",
    "https://stackoverflow.com/questions/44825180/rectangle-document-detection-using-hough-transform-opencv-android\n"
   ]
  },
  {
   "cell_type": "code",
   "execution_count": null,
   "metadata": {},
   "outputs": [],
   "source": [
    "\n",
    "#lines detection: hough\n",
    "\n",
    "\n"
   ]
  },
  {
   "cell_type": "markdown",
   "metadata": {},
   "source": []
  },
  {
   "cell_type": "code",
   "execution_count": null,
   "metadata": {},
   "outputs": [],
   "source": [
    "# lines intersections\n",
    "\n",
    "# lines trimming\n",
    "\n",
    "#corners?: harris detector\n"
   ]
  },
  {
   "cell_type": "markdown",
   "metadata": {},
   "source": []
  },
  {
   "cell_type": "code",
   "execution_count": null,
   "metadata": {},
   "outputs": [],
   "source": [
    "#polygonal approximation\n",
    "\n",
    "#approximated shape testing"
   ]
  },
  {
   "cell_type": "markdown",
   "metadata": {},
   "source": []
  },
  {
   "cell_type": "code",
   "execution_count": 1,
   "metadata": {},
   "outputs": [],
   "source": [
    "# surface identification and orientation\n",
    "\n",
    "# surface labelling\n",
    "\n",
    "#body reconstruction"
   ]
  },
  {
   "cell_type": "markdown",
   "metadata": {},
   "source": []
  },
  {
   "cell_type": "code",
   "execution_count": null,
   "metadata": {},
   "outputs": [],
   "source": []
  }
 ],
 "metadata": {
  "kernelspec": {
   "display_name": "Python 3",
   "language": "python",
   "name": "python3"
  },
  "language_info": {
   "codemirror_mode": {
    "name": "ipython",
    "version": 3
   },
   "file_extension": ".py",
   "mimetype": "text/x-python",
   "name": "python",
   "nbconvert_exporter": "python",
   "pygments_lexer": "ipython3",
   "version": "3.6.9"
  }
 },
 "nbformat": 4,
 "nbformat_minor": 4
}
