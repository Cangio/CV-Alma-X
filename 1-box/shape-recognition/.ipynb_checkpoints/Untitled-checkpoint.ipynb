{
 "cells": [
  {
   "cell_type": "markdown",
   "metadata": {},
   "source": [
    "# RECTANGLE DETECTION\n",
    "\n",
    "https://github.com/luczeng/HoughRectangle\n",
    "\n",
    "https://stackoverflow.com/questions/1194352/proportions-of-a-perspective-deformed-rectangle\n",
    "\n",
    "https://github.com/bsdnoobz/opencv-code/blob/master/quad-segmentation.cpp\n",
    "\n",
    "https://www.google.com/search?channel=fs&client=ubuntu&q=automatic+perspective+correction+quadrilateral+objects\n",
    "\n",
    "https://www.google.com/search?channel=fs&client=ubuntu&q=automatic-perspective-correction-for-quadrilateral-objects\n",
    "\n",
    "https://what-i-learns-today.blogspot.com/2014/11/automatic-prospective-correction-using.html\n"
   ]
  },
  {
   "cell_type": "code",
   "execution_count": 2,
   "metadata": {},
   "outputs": [
    {
     "data": {
      "image/png": "[encoded data removed]",
      "text/plain": [
       "<Figure size 432x288 with 1 Axes>"
      ]
     },
     "metadata": {
      "needs_background": "light"
     },
     "output_type": "display_data"
    }
   ],
   "source": [
    "import cv2\n",
    "from matplotlib import pyplot as plt\n",
    "import numpy as np\n",
    "dodraw=0\n",
    "drawsel=1\n",
    "contcolor=(255,0,0)\n",
    "conthick=10\n",
    "\n",
    "image=cv2.imread('../zimages/perspective1.jpg')\n",
    "image2=image.copy()\n",
    "filterparam=(100,20,0)\n",
    "edges=cv2.Canny(cv2.cvtColor(image, cv2.COLOR_RGB2GRAY),filterparam[0], filterparam[1], filterparam[2])\n",
    "cnts= cv2.findContours(edges, cv2.RETR_EXTERNAL, cv2.CHAIN_APPROX_NONE)\n",
    "cnts = cnts[0] if len(cnts) == 2 else cnts[1]\n",
    "if dodraw:\n",
    "    cv2.drawContours(image,cnts, -1, contcolor, conthick)\n",
    "    \n",
    "out_cnts=[]\n",
    "aprx_poly=[]\n",
    "warp_cnts=[]\n",
    "cnts_persp=[]\n",
    "for c in cnts:\n",
    "    peri = cv2.arcLength(c, True)\n",
    "    poly = cv2.approxPolyDP(c, 0.01 * peri, True)\n",
    "    if len(poly) == 4: #and cv2.contourArea(cnt) > 400:\n",
    "        out_cnts.append(c)\n",
    "        aprx_poly.append(poly)\n",
    "        if drawsel:\n",
    "            cv2.drawContours(image2,c, -1, contcolor, conthick)\n",
    "        extrema = np.array([poly[0][0], poly[1][0], poly[2][0], poly[3][0]])\n",
    "        rect = np.zeros((4, 2), dtype = \"float32\")\n",
    "        s = extrema.sum(axis = 1)\n",
    "        rect[0] = extrema[np.argmin(s)]\n",
    "        rect[2] = extrema[np.argmax(s)]\n",
    "        diff = np.diff(extrema, axis = 1)\n",
    "        rect[1] = extrema[np.argmin(diff)]\n",
    "        rect[3] = extrema[np.argmax(diff)]\n",
    "\n",
    "        (tl, tr, br, bl) = rect\n",
    "        widthA = np.sqrt(((br[0] - bl[0]) ** 2) + ((br[1] - bl[1]) ** 2))\n",
    "        widthB = np.sqrt(((tr[0] - tl[0]) ** 2) + ((tr[1] - tl[1]) ** 2))\n",
    "        maxWidth = max(int(widthA), int(widthB))\n",
    "        heightA = np.sqrt(((tr[0] - br[0]) ** 2) + ((tr[1] - br[1]) ** 2))\n",
    "        heightB = np.sqrt(((tl[0] - bl[0]) ** 2) + ((tl[1] - bl[1]) ** 2))\n",
    "        maxHeight = max(int(heightA), int(heightB))\n",
    "        dst = np.array([\n",
    "        [0, 0],\n",
    "        [maxWidth - 1, 0],\n",
    "        [maxWidth - 1, maxHeight - 1],\n",
    "        [0, maxHeight - 1]], dtype = \"float32\")\n",
    "   \n",
    "        M = cv2.getPerspectiveTransform(rect, dst)\n",
    "        warped = cv2.warpPerspective(cv2.cvtColor(image, cv2.COLOR_RGB2GRAY), M, (maxWidth, maxHeight))\n",
    "        warp_cnts.append(warped)\n",
    "        cnts_persp.append(M)\n",
    "        \n",
    "        \n",
    "plt.imshow(warped,cmap='gray')\n",
    "plt.show()\n",
    "\n",
    "    \n"
   ]
  },
  {
   "cell_type": "markdown",
   "metadata": {},
   "source": [
    "#HU moments for rectangle detection"
   ]
  }
 ],
 "metadata": {
  "kernelspec": {
   "display_name": "Python 3",
   "language": "python",
   "name": "python3"
  },
  "language_info": {
   "codemirror_mode": {
    "name": "ipython",
    "version": 3
   },
   "file_extension": ".py",
   "mimetype": "text/x-python",
   "name": "python",
   "nbconvert_exporter": "python",
   "pygments_lexer": "ipython3",
   "version": "3.6.9"
  }
 },
 "nbformat": 4,
 "nbformat_minor": 4
}
