{
 "cells": [
  {
   "cell_type": "code",
   "execution_count": 20,
   "metadata": {},
   "outputs": [],
   "source": [
    "#:https://stackoverflow.com/questions/10948589/choosing-the-correct-upper-and-lower-hsv-boundaries-for-color-detection-withcv/48367205#48367205\n",
    "import cv2\n",
    "import numpy as np\n",
    "from matplotlib import pyplot as plt\n",
    "debug=0\n",
    "\n",
    "image=cv2.cvtColor(cv2.imread('body/box3.jpg'),cv2.COLOR_BGR2RGB)\n",
    "\n",
    "if debug:\n",
    "    plt.imshow(image)\n",
    "    plt.show()\n",
    "\n",
    "#channel split\n",
    "imager,imageg,imageb = cv2.split(image)\n",
    "\n",
    "if debug: \n",
    "    plt.imshow(imager,cmap='gray')\n",
    "    plt.show()\n",
    "    plt.imshow(imageg,cmap='gray')\n",
    "    plt.show()\n",
    "    plt.imshow(imageb,cmap='gray')\n",
    "    plt.show()\n",
    "\n",
    "#channel histograms\n",
    "histr,_ = np.histogram(imager,256,[0,256])#may use imager.flatte()\n",
    "histg,_ = np.histogram(imageg,256,[0,256])\n",
    "histb,_ = np.histogram(imageb,256,[0,256])\n",
    "if debug:\n",
    "    plt.plot(histr,color = 'r')\n",
    "    plt.plot(histg,color = 'g')\n",
    "    plt.plot(histb,color = 'b')\n",
    "    plt.show()\n",
    "\n",
    "#channel merging\n",
    "#image=cv2.merge((r,g,b)) or (b,g,r)"
   ]
  }
 ],
 "metadata": {
  "kernelspec": {
   "display_name": "Python 3",
   "language": "python",
   "name": "python3"
  },
  "language_info": {
   "codemirror_mode": {
    "name": "ipython",
    "version": 3
   },
   "file_extension": ".py",
   "mimetype": "text/x-python",
   "name": "python",
   "nbconvert_exporter": "python",
   "pygments_lexer": "ipython3",
   "version": "3.6.9"
  }
 },
 "nbformat": 4,
 "nbformat_minor": 4
}
