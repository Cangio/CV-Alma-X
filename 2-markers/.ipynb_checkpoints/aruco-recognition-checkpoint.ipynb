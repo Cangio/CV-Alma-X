{
 "cells": [
  {
   "cell_type": "markdown",
   "metadata": {},
   "source": [
    "# Aruco marker recognition\n",
    "First check if aruco recognition works:"
   ]
  },
  {
   "cell_type": "code",
   "execution_count": null,
   "metadata": {
    "scrolled": false
   },
   "outputs": [],
   "source": [
    "# Requires camera calibration (see the rest of the project for example calibration)\n",
    "\n",
    "import numpy\n",
    "import cv2\n",
    "import cv2.aruco as aruco\n",
    "import matplotlib.pyplot as plt\n",
    "\n",
    "# Constant parameters used in Aruco methods\n",
    "ARUCO_PARAMETERS = aruco.DetectorParameters_create()\n",
    "ARUCO_DICT = aruco.Dictionary_get(aruco.DICT_5X5_50)\n",
    "\n",
    "# Read the image\n",
    "queryImg = cv2.imread(\"test-imgs/two-aruco-types.jpg\")\n",
    "\n",
    "cv2.imshow('QueryImage', queryImg)\n",
    "\n",
    "# grayscale image\n",
    "grayQueryImg = cv2.cvtColor(QueryImg, cv2.COLOR_BGR2GRAY)\n",
    "plt.figure(figsize=(20,10))\n",
    "plt.imshow(grayQueryImg, cmap='gray', vmin=0, vmax=255)\n",
    "plt.title(\"Original image b/w\")\n",
    "plt.show()\n",
    "\n",
    "\n",
    "#======== Detect Aruco markers ========\n",
    "corners, ids, rejectedImgPoints = aruco.detectMarkers(queryImg, ARUCO_DICT, parameters=ARUCO_PARAMETERS)\n",
    "# For each marker found is returned\n",
    "# - list of 4 corners in clockwise order from top-left one\n",
    "# - the list of ids of each of the detected markers in markerCorners\n",
    "\n",
    "print(\"Corners:\", corners)\n",
    "print(\"Rejected points:\", rejectedImgPoints)\n",
    "\n",
    "# Check if at least one marker has been found\n",
    "if ids is not None and len(ids) >= 1:\n",
    "    # Print corners and ids to the console\n",
    "    for i, corner in zip(ids, corners):\n",
    "        print('ID: {}; Corners: {}'.format(i, corner))\n",
    "\n",
    "    # Outline all of the markers detected in the image\n",
    "    # Draw a green contour around the valid markers\n",
    "    detectedArucoImg = aruco.drawDetectedMarkers(queryImg, corners, borderColor=(0, 255, 0))\n",
    "    \n",
    "    # Draw a red contour around discarded markers\n",
    "    if rejectedImgPoints is not None and len(rejectedImgPoints) >= 1:\n",
    "        detectedArucoImg = aruco.drawDetectedMarkers(detectedArucoImg, rejectedImgPoints, borderColor=(0, 0, 255))\n",
    "\n",
    "        # Display our image\n",
    "    cv2.imshow('QueryImage', detectedArucoImg)\n",
    "    plt.figure(figsize=(20,10))\n",
    "    plt.imshow(detectedArucoImg)\n",
    "    plt.show()\n",
    "    \n",
    "    cv2.waitKey(0)\n",
    "else:\n",
    "    print(\"No marker detected!\")\n",
    "\n",
    "cv2.destroyAllWindows()"
   ]
  },
  {
   "cell_type": "code",
   "execution_count": null,
   "metadata": {},
   "outputs": [],
   "source": [
    "cv2.destroyAllWindows()"
   ]
  },
  {
   "cell_type": "code",
   "execution_count": null,
   "metadata": {},
   "outputs": [],
   "source": []
  }
 ],
 "metadata": {
  "kernelspec": {
   "display_name": "Python 3",
   "language": "python",
   "name": "python3"
  },
  "language_info": {
   "codemirror_mode": {
    "name": "ipython",
    "version": 3
   },
   "file_extension": ".py",
   "mimetype": "text/x-python",
   "name": "python",
   "nbconvert_exporter": "python",
   "pygments_lexer": "ipython3",
   "version": "3.6.9"
  }
 },
 "nbformat": 4,
 "nbformat_minor": 2
}
