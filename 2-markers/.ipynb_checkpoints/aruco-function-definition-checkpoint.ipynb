{
 "cells": [
  {
   "cell_type": "markdown",
   "metadata": {},
   "source": [
    "Report the function definitions from aruco-recognition.ipynb for including in other scripts"
   ]
  },
  {
   "cell_type": "code",
   "execution_count": 2,
   "metadata": {},
   "outputs": [],
   "source": [
    "# Open the image given a path and find aruco markers\n",
    "def findAruco(imgPath, ARUCO_DICT, ARUCO_PARAMETERS):\n",
    "    # Read the image with the markers\n",
    "    img = cv2.imread(imgPath)\n",
    "\n",
    "    # grayscale image\n",
    "    #img_bw = cv2.cvtColor(queryImg, cv2.COLOR_BGR2GRAY)\n",
    "    \n",
    "    #======== Detect Aruco markers ========\n",
    "    corners, ids, _ = aruco.detectMarkers(img, ARUCO_DICT, parameters=ARUCO_PARAMETERS)\n",
    "    \n",
    "    return img, ids, corners "
   ]
  },
  {
   "cell_type": "code",
   "execution_count": 3,
   "metadata": {},
   "outputs": [],
   "source": [
    "# Return: array with selected contours, None if no markers are provided\n",
    "def findRectangles(imgRect, idsR, cornersR):\n",
    "    debug = 0\n",
    "    # Grayscale image is requested for contour recognition\n",
    "    imgRectGray = cv2.cvtColor(imgRect, cv2.COLOR_BGR2GRAY)\n",
    "\n",
    "    # Check if at least one marker has been found\n",
    "    if idsR is None or len(idsR) == 0:\n",
    "        # If no marker detected, exit\n",
    "        print(\"No marker detected!\")\n",
    "        return None\n",
    "\n",
    "    # Print found arucos\n",
    "    if debug:\n",
    "        for i, corner in zip(idsR, cornersR):\n",
    "            print('Detected aruco with ID: {}.'.format(i[0]))\n",
    "\n",
    "    #======== Find contours in image ========\n",
    "        \n",
    "    # The \"findContours\" function nedd a binary image, so need to threeshold before\n",
    "    ret, img_thresh = cv2.threshold(imgRectGray, 127, 255, 0)\n",
    "    contours, hierarchy = cv2.findContours(img_thresh, cv2.RETR_TREE, cv2.CHAIN_APPROX_SIMPLE)\n",
    "\n",
    "    # Identify rectangular contours\n",
    "    rect_cnts = []\n",
    "    areas = []\n",
    "    for cnt in contours:\n",
    "        peri = cv2.arcLength(cnt, True)\n",
    "        approx = cv2.approxPolyDP(cnt, 0.04 * peri, True)\n",
    "        (x, y, w, h) = cv2.boundingRect(cnt)\n",
    "        #ar = w / float(h)\n",
    "        if len(approx) == 4: # shape filtering condition\n",
    "            # Get the area of the rectangle, need to exclude rectangles with area less than the \n",
    "            # one of the smallest aruco\n",
    "            area = cv2.contourArea(cnt)\n",
    "\n",
    "            # Exclude rectangles with pixel area, due to some threesholding error perhaps\n",
    "            if area >= 5.0:\n",
    "                areas.append(area)\n",
    "                rect_cnts.append(cnt) # Shape is rectangle, add to the valid list\n",
    "    # Now in rect_cnts[] we have only rectangular contours\n",
    "\n",
    "    #======== Discard the contours that do not contain any aruco (multiple markers can be present in the image)\n",
    "\n",
    "    # Make a copy to preserve the original image, draw functions are destructive\n",
    "    imgRectDraw = np.copy(imgRect)\n",
    "\n",
    "    j = 0\n",
    "    in_cnt = []\n",
    "    for aruco_n, corner_n in zip(idsR, cornersR): # for every aruco marker in image...\n",
    "        cnt_father = []\n",
    "        corner_n = corner_n[0] # adjust array dimensionality\n",
    "        for cnt in rect_cnts: # for every rectangular contour...\n",
    "            dist = cv2.pointPolygonTest(cnt, (corner_n[0][0].astype(int), corner_n[0][1].astype(int)), True) # Check if top left corner of the aruco\n",
    "            if dist > 1.: # if the aruco is inside the contour...\n",
    "                cnt_father.append(cnt) # add the contour in list\n",
    "                if debug:\n",
    "                    cv2.drawContours(imgRectDraw, [cnt], -1, (0,255,0), 2) # for debug draw the contour found\n",
    "        if len(cnt_father) != 0:\n",
    "            in_cnt.append(cnt_father) # check next aruco\n",
    "\n",
    "    return in_cnt"
   ]
  },
  {
   "cell_type": "code",
   "execution_count": null,
   "metadata": {},
   "outputs": [],
   "source": []
  }
 ],
 "metadata": {
  "kernelspec": {
   "display_name": "Python 3",
   "language": "python",
   "name": "python3"
  },
  "language_info": {
   "codemirror_mode": {
    "name": "ipython",
    "version": 3
   },
   "file_extension": ".py",
   "mimetype": "text/x-python",
   "name": "python",
   "nbconvert_exporter": "python",
   "pygments_lexer": "ipython3",
   "version": "3.6.9"
  }
 },
 "nbformat": 4,
 "nbformat_minor": 2
}
