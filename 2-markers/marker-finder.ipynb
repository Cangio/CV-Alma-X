{
 "cells": [
  {
   "cell_type": "code",
   "execution_count": 1,
   "metadata": {},
   "outputs": [],
   "source": [
    "import cv2\n",
    "import numpy as np\n",
    "from matplotlib import pyplot as plt"
   ]
  },
  {
   "cell_type": "code",
   "execution_count": null,
   "metadata": {},
   "outputs": [],
   "source": [
    "# only for aruco markers\n",
    "#\n",
    "# https://medium.com/@muralimahadeva/aruco-markers-usage-in-computer-vision-using-opencv-python-cbdcf6ff5172\n",
    "# https://www.learnopencv.com/augmented-reality-using-aruco-markers-in-opencv-c-python/\n",
    "# https://chev.me/arucogen/\n",
    "# https://docs.opencv.org/master/d5/dae/tutorial_aruco_detection.html\n",
    "# https://datigrezzi.com/2019/11/12/markers-detection-perspective-transformation-opencv-python/\n",
    "# https://datigrezzi.com/2019/12/11/3d-object-rotation-using-aruco-markers-in-python/\n",
    "# https://datigrezzi.com/2019/07/12/custom-aruco-markers-in-python/\n",
    "# https://datigrezzi.com/2020/02/11/location-tracking-aruco-markers-python/\n",
    "# https://docs.opencv.org/master/d5/dae/tutorial_aruco_detection.html\n",
    "\n",
    "## aruco\n",
    "import cv2.aruco as aruco\n",
    "\n",
    "cap = cv2.VideoCapture(0)\n",
    "while(True):\n",
    "    ret, frame = cap.read()\n",
    "    gray = cv2.cvtColor(frame, cv2.COLOR_BGR2GRAY)\n",
    "    aruco_dict = aruco.Dictionary_get(aruco.DICT_5X5_1000)\n",
    "    arucoParameters = aruco.DetectorParameters_create()\n",
    "    corners, ids, rejectedImgPoints = aruco.detectMarkers(\n",
    "        gray, aruco_dict, parameters=arucoParameters)\n",
    "    frame = aruco.drawDetectedMarkers(frame, corners)\n",
    "    cv2.imshow('Display', frame)\n",
    "    if cv2.waitKey(1) & 0xFF == ord('q'):\n",
    "        break\n",
    "cap.release()\n",
    "cv2.destroyAllWindows()"
   ]
  },
  {
   "cell_type": "code",
   "execution_count": null,
   "metadata": {},
   "outputs": [],
   "source": [
    "# general marker detection\n",
    "#\n",
    "# SURF descriptor of marker\n",
    "# RANSAC computes homograpy\n",
    "# -> can compute inclination and distance"
   ]
  },
  {
   "cell_type": "code",
   "execution_count": null,
   "metadata": {},
   "outputs": [],
   "source": [
    "# marker-finder\n",
    "#\n",
    "# finds markers\n",
    "# computes homography (each), centers\n",
    "# computes homography from centers (averaging with markers one)"
   ]
  }
 ],
 "metadata": {
  "kernelspec": {
   "display_name": "Python 3",
   "language": "python",
   "name": "python3"
  },
  "language_info": {
   "codemirror_mode": {
    "name": "ipython",
    "version": 3
   },
   "file_extension": ".py",
   "mimetype": "text/x-python",
   "name": "python",
   "nbconvert_exporter": "python",
   "pygments_lexer": "ipython3",
   "version": "3.8.5"
  }
 },
 "nbformat": 4,
 "nbformat_minor": 4
}
