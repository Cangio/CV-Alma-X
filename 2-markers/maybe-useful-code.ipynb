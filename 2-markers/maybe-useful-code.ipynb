{
 "cells": [
  {
   "cell_type": "markdown",
   "metadata": {},
   "source": [
    "# Just to store maybe useful code"
   ]
  },
  {
   "cell_type": "code",
   "execution_count": null,
   "metadata": {},
   "outputs": [],
   "source": [
    "import numpy as np\n",
    "\n",
    "seg1 = np.sqrt((884-839)**2+(271-294)**2)\n",
    "seg2 = np.sqrt((839-812)**2+(294-252)**2)\n",
    "print(seg1, seg2)\n",
    "area = seg1 * seg2\n",
    "print(\"Area:\", area)"
   ]
  },
  {
   "cell_type": "code",
   "execution_count": null,
   "metadata": {},
   "outputs": [],
   "source": [
    "aruco_rects = []\n",
    "    #print(cornersR, rect_cnts[0])\n",
    "\n",
    "    for mark_n in cornersR:\n",
    "        # mark_n contains the points of the four vertices of the aruco\n",
    "        print(mark_n)\n",
    "        # We can identify the aruco using only the top_left point\n",
    "        top_left = mark_n[0][0]\n",
    "        top_left_up = top_left.astype(int)+2   # Upperbound, +2 pixels wrt the exact point\n",
    "        top_left_down = top_left.astype(int)-2 # Lowerbound, -2 pixels wrt the exact point\n",
    "\n",
    "        for pnts in rect_cnts:\n",
    "            for pnt in pnts:\n",
    "                if pnt[0][0] < top_left_up[0] and pnt[0][0] > top_left_down[0]:\n",
    "                    if pnt[0][1] < top_left_up[1] and pnt[0][1] > top_left_down[1]:\n",
    "                        print(\"Possible point:\", pnt)\n",
    "                        cv2.drawContours(imgRectDraw, [pnts], -1, (255,255,0), 2)\n",
    "                        aruco_rects.append(pnts)\n",
    "                        break\n",
    "\n",
    "    # Get area of aruco markers\n",
    "    aruco_areas = np.array(list(map(cv2.contourArea, aruco_rects)))\n",
    "    print(\"Areas:\", aruco_areas)\n",
    "    # Find min aruco area to delete smallest rectangles \n",
    "    min_area = np.min(aruco_areas)"
   ]
  }
 ],
 "metadata": {
  "kernelspec": {
   "display_name": "Python 3",
   "language": "python",
   "name": "python3"
  },
  "language_info": {
   "codemirror_mode": {
    "name": "ipython",
    "version": 3
   },
   "file_extension": ".py",
   "mimetype": "text/x-python",
   "name": "python",
   "nbconvert_exporter": "python",
   "pygments_lexer": "ipython3",
   "version": "3.6.9"
  }
 },
 "nbformat": 4,
 "nbformat_minor": 2
}
